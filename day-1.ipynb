{
 "cells": [
  {
   "cell_type": "markdown",
   "id": "282cab71",
   "metadata": {},
   "source": [
    "Day 1 - Introduction "
   ]
  },
  {
   "cell_type": "code",
   "execution_count": 1,
   "id": "bae127f1",
   "metadata": {},
   "outputs": [
    {
     "data": {
      "text/plain": [
       "'python'"
      ]
     },
     "execution_count": 1,
     "metadata": {},
     "output_type": "execute_result"
    }
   ],
   "source": [
    "'python'"
   ]
  },
  {
   "cell_type": "code",
   "execution_count": 10,
   "id": "bb7b7aaf",
   "metadata": {},
   "outputs": [
    {
     "name": "stdout",
     "output_type": "stream",
     "text": [
      "Hello world\n",
      "Day-1-learning python\n",
      "Hello Python\n",
      "Hello&Python\n",
      "Hello-Python!"
     ]
    }
   ],
   "source": [
    "#print function\n",
    "\n",
    "print('Hello world')\n",
    "print(\"Day-1-learning python\")\n",
    "print('Hello','Python')\n",
    "print('Hello','Python',sep='&')\n",
    "print('Hello','Python',sep='-',end=\"!\")"
   ]
  },
  {
   "cell_type": "code",
   "execution_count": 9,
   "id": "ad416a28",
   "metadata": {},
   "outputs": [
    {
     "name": "stdout",
     "output_type": "stream",
     "text": [
      "this is a string\n"
     ]
    }
   ],
   "source": [
    "#variables\n",
    "\n",
    "str = \"this is a string\"\n",
    "print(str)"
   ]
  },
  {
   "cell_type": "code",
   "execution_count": 13,
   "id": "babe064f",
   "metadata": {},
   "outputs": [
    {
     "name": "stdout",
     "output_type": "stream",
     "text": [
      "2011111042\n"
     ]
    }
   ],
   "source": [
    "batch = \"201\"\n",
    "dept = \"042\"\n",
    "iid = \"1111\"\n",
    "\n",
    "print(batch,iid,dept,sep=\"\")"
   ]
  },
  {
   "cell_type": "code",
   "execution_count": 14,
   "id": "97edc397",
   "metadata": {},
   "outputs": [
    {
     "data": {
      "text/plain": [
       "1690258761840"
      ]
     },
     "execution_count": 14,
     "metadata": {},
     "output_type": "execute_result"
    }
   ],
   "source": [
    "#memory location\n",
    "id(batch)"
   ]
  },
  {
   "cell_type": "code",
   "execution_count": 15,
   "id": "c6ba6454",
   "metadata": {},
   "outputs": [
    {
     "data": {
      "text/plain": [
       "52"
      ]
     },
     "execution_count": 15,
     "metadata": {},
     "output_type": "execute_result"
    }
   ],
   "source": [
    "#size\n",
    "import sys\n",
    "sys.getsizeof(batch)"
   ]
  },
  {
   "cell_type": "code",
   "execution_count": 18,
   "id": "1d8ac7ec",
   "metadata": {},
   "outputs": [
    {
     "data": {
      "text/plain": [
       "1690176350544"
      ]
     },
     "execution_count": 18,
     "metadata": {},
     "output_type": "execute_result"
    }
   ],
   "source": [
    "x = 2\n",
    "y = 5\n",
    "\n",
    "id(x)"
   ]
  },
  {
   "cell_type": "code",
   "execution_count": 19,
   "id": "d091afcd",
   "metadata": {},
   "outputs": [
    {
     "data": {
      "text/plain": [
       "1690176350640"
      ]
     },
     "execution_count": 19,
     "metadata": {},
     "output_type": "execute_result"
    }
   ],
   "source": [
    "id(y)"
   ]
  },
  {
   "cell_type": "code",
   "execution_count": 21,
   "id": "b54a0423",
   "metadata": {},
   "outputs": [
    {
     "name": "stdout",
     "output_type": "stream",
     "text": [
      "100\n",
      "200\n",
      "300\n"
     ]
    }
   ],
   "source": [
    "#multiple variable\n",
    "a,b,c = 100,200,300\n",
    "print(a)\n",
    "print(b)\n",
    "print(c)"
   ]
  },
  {
   "cell_type": "code",
   "execution_count": 23,
   "id": "399fc8a5",
   "metadata": {},
   "outputs": [
    {
     "name": "stdout",
     "output_type": "stream",
     "text": [
      "local x:  2\n",
      "global x:  5\n"
     ]
    }
   ],
   "source": [
    "#function\n",
    "#local vs global variables\n",
    "\n",
    "v = 5\n",
    "\n",
    "def fun1():\n",
    "    v = 2\n",
    "    print('local x: ',v)\n",
    "    \n",
    "fun1()\n",
    "print('global x: ',v)"
   ]
  },
  {
   "cell_type": "code",
   "execution_count": 31,
   "id": "f284a00b",
   "metadata": {},
   "outputs": [
    {
     "name": "stdout",
     "output_type": "stream",
     "text": [
      "local d:  2\n",
      "global d:  2\n"
     ]
    }
   ],
   "source": [
    "#d = 5\n",
    "\n",
    "def fun1():\n",
    "    d = 2\n",
    "    print('local d: ',d)\n",
    "    \n",
    "fun1()\n",
    "print('global d: ',d)"
   ]
  }
 ],
 "metadata": {
  "kernelspec": {
   "display_name": "Python 3 (ipykernel)",
   "language": "python",
   "name": "python3"
  },
  "language_info": {
   "codemirror_mode": {
    "name": "ipython",
    "version": 3
   },
   "file_extension": ".py",
   "mimetype": "text/x-python",
   "name": "python",
   "nbconvert_exporter": "python",
   "pygments_lexer": "ipython3",
   "version": "3.9.12"
  }
 },
 "nbformat": 4,
 "nbformat_minor": 5
}
