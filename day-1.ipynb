{
 "cells": [
  {
   "cell_type": "markdown",
   "id": "39940686",
   "metadata": {},
   "source": [
    "Day 1 - Introduction "
   ]
  },
  {
   "cell_type": "code",
   "execution_count": 1,
   "id": "87813d6c",
   "metadata": {},
   "outputs": [
    {
     "data": {
      "text/plain": [
       "'python'"
      ]
     },
     "execution_count": 1,
     "metadata": {},
     "output_type": "execute_result"
    }
   ],
   "source": [
    "'python'"
   ]
  },
  {
   "cell_type": "code",
   "execution_count": 10,
   "id": "bdd76ae9",
   "metadata": {},
   "outputs": [
    {
     "name": "stdout",
     "output_type": "stream",
     "text": [
      "Hello world\n",
      "Day-1-learning python\n",
      "Hello Python\n",
      "Hello&Python\n",
      "Hello-Python!"
     ]
    }
   ],
   "source": [
    "#print function\n",
    "\n",
    "print('Hello world')\n",
    "print(\"Day-1-learning python\")\n",
    "print('Hello','Python')\n",
    "print('Hello','Python',sep='&')\n",
    "print('Hello','Python',sep='-',end=\"!\")"
   ]
  },
  {
   "cell_type": "code",
   "execution_count": 9,
   "id": "5184efd5",
   "metadata": {},
   "outputs": [
    {
     "name": "stdout",
     "output_type": "stream",
     "text": [
      "this is a string\n"
     ]
    }
   ],
   "source": [
    "#variables\n",
    "\n",
    "str = \"this is a string\"\n",
    "print(str)"
   ]
  },
  {
   "cell_type": "code",
   "execution_count": 13,
   "id": "f17e211b",
   "metadata": {},
   "outputs": [
    {
     "name": "stdout",
     "output_type": "stream",
     "text": [
      "2011111042\n"
     ]
    }
   ],
   "source": [
    "batch = \"201\"\n",
    "dept = \"042\"\n",
    "iid = \"1111\"\n",
    "\n",
    "print(batch,iid,dept,sep=\"\")"
   ]
  },
  {
   "cell_type": "code",
   "execution_count": 14,
   "id": "5c6c671c",
   "metadata": {},
   "outputs": [
    {
     "data": {
      "text/plain": [
       "1690258761840"
      ]
     },
     "execution_count": 14,
     "metadata": {},
     "output_type": "execute_result"
    }
   ],
   "source": [
    "#memory location\n",
    "id(batch)"
   ]
  },
  {
   "cell_type": "code",
   "execution_count": 15,
   "id": "f36ade08",
   "metadata": {},
   "outputs": [
    {
     "data": {
      "text/plain": [
       "52"
      ]
     },
     "execution_count": 15,
     "metadata": {},
     "output_type": "execute_result"
    }
   ],
   "source": [
    "#size\n",
    "import sys\n",
    "sys.getsizeof(batch)"
   ]
  },
  {
   "cell_type": "code",
   "execution_count": 18,
   "id": "d3fe79b3",
   "metadata": {},
   "outputs": [
    {
     "data": {
      "text/plain": [
       "1690176350544"
      ]
     },
     "execution_count": 18,
     "metadata": {},
     "output_type": "execute_result"
    }
   ],
   "source": [
    "x = 2\n",
    "y = 5\n",
    "\n",
    "id(x)"
   ]
  },
  {
   "cell_type": "code",
   "execution_count": 19,
   "id": "c168ad08",
   "metadata": {},
   "outputs": [
    {
     "data": {
      "text/plain": [
       "1690176350640"
      ]
     },
     "execution_count": 19,
     "metadata": {},
     "output_type": "execute_result"
    }
   ],
   "source": [
    "id(y)"
   ]
  },
  {
   "cell_type": "code",
   "execution_count": 21,
   "id": "3b9afd11",
   "metadata": {},
   "outputs": [
    {
     "name": "stdout",
     "output_type": "stream",
     "text": [
      "100\n",
      "200\n",
      "300\n"
     ]
    }
   ],
   "source": [
    "#multiple variable\n",
    "a,b,c = 100,200,300\n",
    "print(a)\n",
    "print(b)\n",
    "print(c)"
   ]
  },
  {
   "cell_type": "code",
   "execution_count": 23,
   "id": "52d72dd1",
   "metadata": {},
   "outputs": [
    {
     "name": "stdout",
     "output_type": "stream",
     "text": [
      "local x:  2\n",
      "global x:  5\n"
     ]
    }
   ],
   "source": [
    "#function\n",
    "#local vs global variables\n",
    "\n",
    "v = 5\n",
    "\n",
    "def fun1():\n",
    "    v = 2\n",
    "    print('local x: ',v)\n",
    "    \n",
    "fun1()\n",
    "print('global x: ',v)"
   ]
  },
  {
   "cell_type": "code",
   "execution_count": 31,
   "id": "c03031ac",
   "metadata": {},
   "outputs": [
    {
     "name": "stdout",
     "output_type": "stream",
     "text": [
      "local d:  2\n",
      "global d:  2\n"
     ]
    }
   ],
   "source": [
    "#d = 5\n",
    "\n",
    "def fun1():\n",
    "    d = 2\n",
    "    print('local d: ',d)\n",
    "    \n",
    "fun1()\n",
    "print('global d: ',d)"
   ]
  },
  {
   "cell_type": "code",
   "execution_count": 35,
   "id": "05cfe29c",
   "metadata": {},
   "outputs": [
    {
     "name": "stdout",
     "output_type": "stream",
     "text": [
      "Enter a: 2\n",
      "Enter b: 3\n"
     ]
    },
    {
     "ename": "NameError",
     "evalue": "name 'ans' is not defined",
     "output_type": "error",
     "traceback": [
      "\u001b[1;31m---------------------------------------------------------------------------\u001b[0m",
      "\u001b[1;31mNameError\u001b[0m                                 Traceback (most recent call last)",
      "Input \u001b[1;32mIn [35]\u001b[0m, in \u001b[0;36m<cell line: 7>\u001b[1;34m()\u001b[0m\n\u001b[0;32m      5\u001b[0m a \u001b[38;5;241m=\u001b[39m \u001b[38;5;28minput\u001b[39m(\u001b[38;5;124m\"\u001b[39m\u001b[38;5;124mEnter a: \u001b[39m\u001b[38;5;124m\"\u001b[39m)\n\u001b[0;32m      6\u001b[0m b \u001b[38;5;241m=\u001b[39m \u001b[38;5;28minput\u001b[39m(\u001b[38;5;124m\"\u001b[39m\u001b[38;5;124mEnter b: \u001b[39m\u001b[38;5;124m\"\u001b[39m)\n\u001b[1;32m----> 7\u001b[0m \u001b[38;5;28;43msum\u001b[39;49m\u001b[43m(\u001b[49m\u001b[43ma\u001b[49m\u001b[43m,\u001b[49m\u001b[43mb\u001b[49m\u001b[43m)\u001b[49m\n",
      "Input \u001b[1;32mIn [35]\u001b[0m, in \u001b[0;36msum\u001b[1;34m(a, b)\u001b[0m\n\u001b[0;32m      1\u001b[0m \u001b[38;5;28;01mdef\u001b[39;00m \u001b[38;5;21msum\u001b[39m(a,b):\n\u001b[0;32m      2\u001b[0m     \u001b[38;5;28msum\u001b[39m \u001b[38;5;241m=\u001b[39m \u001b[38;5;28mint\u001b[39m(a) \u001b[38;5;241m+\u001b[39m \u001b[38;5;28mint\u001b[39m(b)\n\u001b[1;32m----> 3\u001b[0m     \u001b[38;5;28mprint\u001b[39m(\u001b[38;5;124m'\u001b[39m\u001b[38;5;124mSum is: \u001b[39m\u001b[38;5;124m'\u001b[39m,\u001b[43mans\u001b[49m)\n",
      "\u001b[1;31mNameError\u001b[0m: name 'ans' is not defined"
     ]
    }
   ],
   "source": [
    "def sum(a,b):\n",
    "    print('Sum is: ',a)\n",
    "    \n",
    "a = input(\"Enter a: \")\n",
    "b = input(\"Enter b: \")\n",
    "sum(a,b)"
   ]
  }
 ],
 "metadata": {
  "kernelspec": {
   "display_name": "Python 3 (ipykernel)",
   "language": "python",
   "name": "python3"
  },
  "language_info": {
   "codemirror_mode": {
    "name": "ipython",
    "version": 3
   },
   "file_extension": ".py",
   "mimetype": "text/x-python",
   "name": "python",
   "nbconvert_exporter": "python",
   "pygments_lexer": "ipython3",
   "version": "3.9.12"
  }
 },
 "nbformat": 4,
 "nbformat_minor": 5
}
