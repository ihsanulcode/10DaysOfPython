{
 "cells": [
  {
   "cell_type": "markdown",
   "id": "cf19965b",
   "metadata": {},
   "source": [
    "# Histograms - Hist Plot\n",
    "\n",
    "Histograms are bar charts where the y-axis contains the frequency of a variable"
   ]
  },
  {
   "cell_type": "markdown",
   "id": "9ae91bc6",
   "metadata": {},
   "source": [
    "## What is the difference between Bar Chart  and Histogram?\n",
    "The bar graph is the graphical representation of categorical data. A histogram is the graphical representation of quantitative data. In Hist plot the y-axis is representing the frequency of the data points. "
   ]
  },
  {
   "cell_type": "code",
   "execution_count": 1,
   "id": "f58c4ca9",
   "metadata": {},
   "outputs": [],
   "source": [
    "import matplotlib.pyplot as plt\n",
    "%matplotlib inline"
   ]
  },
  {
   "cell_type": "markdown",
   "id": "e7f5aa64",
   "metadata": {},
   "source": [
    "The line magic command %matplotlib inline enables the drawing of matplotlib figures in the IPython environment. \n",
    "Once this command is executed in any cell, then for the rest of the session, the matplotlib plots will appear directly \n",
    "below the cell in which the plot function was called."
   ]
  },
  {
   "cell_type": "code",
   "execution_count": 2,
   "id": "8d1fd411",
   "metadata": {},
   "outputs": [
    {
     "data": {
      "text/plain": [
       "(array([3., 3., 1., 0., 1., 1., 0., 2., 0., 2.]),\n",
       " array([ 77. ,  84.3,  91.6,  98.9, 106.2, 113.5, 120.8, 128.1, 135.4,\n",
       "        142.7, 150. ]),\n",
       " <BarContainer object of 10 artists>)"
      ]
     },
     "execution_count": 2,
     "metadata": {},
     "output_type": "execute_result"
    },
    {
     "data": {
      "image/png": "[encoded data removed]",
      "text/plain": [
       "<Figure size 432x288 with 1 Axes>"
      ]
     },
     "metadata": {
      "needs_background": "light"
     },
     "output_type": "display_data"
    }
   ],
   "source": [
    "blood_sugar_men = [113,85,90,150,149,88,93,115,135,80,77,82,129]\n",
    "blood_suger_women = [67,98,89,120,133,150,84,69,89,79,120,112,100]\n",
    "plt.hist(blood_sugar_men)"
   ]
  },
  {
   "cell_type": "markdown",
   "id": "cfa020a4",
   "metadata": {},
   "source": [
    "### Hist parameters "
   ]
  },
  {
   "cell_type": "code",
   "execution_count": 3,
   "id": "dd17afe6",
   "metadata": {},
   "outputs": [
    {
     "data": {
      "text/plain": [
       "(array([7., 2., 4.]),\n",
       " array([ 77.        , 101.33333333, 125.66666667, 150.        ]),\n",
       " <BarContainer object of 3 artists>)"
      ]
     },
     "execution_count": 3,
     "metadata": {},
     "output_type": "execute_result"
    },
    {
     "data": {
      "image/png": "[encoded data removed]",
      "text/plain": [
       "<Figure size 432x288 with 1 Axes>"
      ]
     },
     "metadata": {
      "needs_background": "light"
     },
     "output_type": "display_data"
    }
   ],
   "source": [
    "# bins: x-axis range gaps\n",
    "# rwidth: bar weigths\n",
    "\n",
    "plt.hist(blood_sugar_men, bins=3, rwidth=0.95)"
   ]
  },
  {
   "cell_type": "code",
   "execution_count": 4,
   "id": "a387950a",
   "metadata": {},
   "outputs": [
    {
     "data": {
      "text/plain": [
       "(array([1., 6., 2., 2., 2.]),\n",
       " array([ 60,  80, 100, 120, 140, 160]),\n",
       " <BarContainer object of 5 artists>)"
      ]
     },
     "execution_count": 4,
     "metadata": {},
     "output_type": "execute_result"
    },
    {
     "data": {
      "image/png": "[encoded data removed]",
      "text/plain": [
       "<Figure size 432x288 with 1 Axes>"
      ]
     },
     "metadata": {
      "needs_background": "light"
     },
     "output_type": "display_data"
    }
   ],
   "source": [
    "plt.hist(blood_sugar_men, bins=[60,80,100,120,140,160], rwidth=0.92)"
   ]
  },
  {
   "cell_type": "code",
   "execution_count": 5,
   "id": "b874a0be",
   "metadata": {},
   "outputs": [
    {
     "data": {
      "text/plain": [
       "(array([1., 6., 2., 2., 2.]),\n",
       " array([ 60,  80, 100, 120, 140, 160]),\n",
       " <BarContainer object of 5 artists>)"
      ]
     },
     "execution_count": 5,
     "metadata": {},
     "output_type": "execute_result"
    },
    {
     "data": {
      "image/png": "[encoded data removed]",
      "text/plain": [
       "<Figure size 432x288 with 1 Axes>"
      ]
     },
     "metadata": {
      "needs_background": "light"
     },
     "output_type": "display_data"
    }
   ],
   "source": [
    "# labels\n",
    "plt.xlabel('Blood Suger Level')\n",
    "plt.ylabel('Frequency')\n",
    "plt.hist(blood_sugar_men, bins=[60,80,100,120,140,160], rwidth=0.92)"
   ]
  },
  {
   "cell_type": "code",
   "execution_count": 6,
   "id": "481c16f2",
   "metadata": {},
   "outputs": [
    {
     "data": {
      "text/plain": [
       "(array([1., 6., 2., 2., 2.]),\n",
       " array([ 60,  80, 100, 120, 140, 160]),\n",
       " <BarContainer object of 5 artists>)"
      ]
     },
     "execution_count": 6,
     "metadata": {},
     "output_type": "execute_result"
    },
    {
     "data": {
      "image/png": "[encoded data removed]",
      "text/plain": [
       "<Figure size 432x288 with 1 Axes>"
      ]
     },
     "metadata": {
      "needs_background": "light"
     },
     "output_type": "display_data"
    }
   ],
   "source": [
    "# Color\n",
    "plt.hist(blood_sugar_men, bins=[60,80,100,120,140,160], rwidth=0.92, color='green')"
   ]
  },
  {
   "cell_type": "code",
   "execution_count": 7,
   "id": "25f83181",
   "metadata": {},
   "outputs": [
    {
     "data": {
      "text/plain": [
       "(array([[1., 6., 2., 2., 2.],\n",
       "        [3., 4., 2., 3., 1.]]),\n",
       " array([ 60,  80, 100, 120, 140, 160]),\n",
       " <a list of 2 BarContainer objects>)"
      ]
     },
     "execution_count": 7,
     "metadata": {},
     "output_type": "execute_result"
    },
    {
     "data": {
      "image/png": "[encoded data removed]",
      "text/plain": [
       "<Figure size 432x288 with 1 Axes>"
      ]
     },
     "metadata": {
      "needs_background": "light"
     },
     "output_type": "display_data"
    }
   ],
   "source": [
    "# Multiple Data \n",
    "plt.hist([blood_sugar_men, blood_suger_women], bins=[60,80,100,120,140,160], rwidth=0.95, color=['green', 'orange'])"
   ]
  },
  {
   "cell_type": "code",
   "execution_count": 10,
   "id": "8898b4d4",
   "metadata": {},
   "outputs": [
    {
     "data": {
      "text/plain": [
       "Text(0.5, 1.0, 'Blood Suger Analysis')"
      ]
     },
     "execution_count": 10,
     "metadata": {},
     "output_type": "execute_result"
    },
    {
     "data": {
      "image/png": "[encoded data removed]",
      "text/plain": [
       "<Figure size 432x288 with 1 Axes>"
      ]
     },
     "metadata": {
      "needs_background": "light"
     },
     "output_type": "display_data"
    }
   ],
   "source": [
    "#Labels\n",
    "plt.hist([blood_sugar_men, blood_suger_women], bins=[60,80,100,120,140,160], rwidth=0.98, color=['green', 'orange'],\n",
    "        label=['men', 'women'])\n",
    "plt.legend()\n",
    "plt.xlabel('Blood Suger Range')\n",
    "plt.ylabel('Total Number of Patients')\n",
    "plt.title('Blood Suger Analysis')"
   ]
  },
  {
   "cell_type": "code",
   "execution_count": 11,
   "id": "6d99ae82",
   "metadata": {},
   "outputs": [
    {
     "data": {
      "text/plain": [
       "Text(0.5, 1.0, 'Blood Suger Analysis')"
      ]
     },
     "execution_count": 11,
     "metadata": {},
     "output_type": "execute_result"
    },
    {
     "data": {
      "image/png": "[encoded data removed]",
      "text/plain": [
       "<Figure size 432x288 with 1 Axes>"
      ]
     },
     "metadata": {
      "needs_background": "light"
     },
     "output_type": "display_data"
    }
   ],
   "source": [
    "# Horizontal Orientation\n",
    "plt.hist([blood_sugar_men, blood_suger_women], bins=[60,80,100,120,140,160], rwidth=0.98, color=['green', 'orange'],\n",
    "        label=['men', 'women'],orientation='horizontal')\n",
    "plt.legend()\n",
    "plt.xlabel('Blood Suger Range')\n",
    "plt.ylabel('Total Number of Patients')\n",
    "plt.title('Blood Suger Analysis')"
   ]
  }
 ],
 "metadata": {
  "kernelspec": {
   "display_name": "Python 3 (ipykernel)",
   "language": "python",
   "name": "python3"
  },
  "language_info": {
   "codemirror_mode": {
    "name": "ipython",
    "version": 3
   },
   "file_extension": ".py",
   "mimetype": "text/x-python",
   "name": "python",
   "nbconvert_exporter": "python",
   "pygments_lexer": "ipython3",
   "version": "3.9.12"
  }
 },
 "nbformat": 4,
 "nbformat_minor": 5
}
