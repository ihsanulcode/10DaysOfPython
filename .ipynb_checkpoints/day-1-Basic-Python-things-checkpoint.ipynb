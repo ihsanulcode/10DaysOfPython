{
 "cells": [
  {
   "cell_type": "markdown",
   "id": "4415f911",
   "metadata": {},
   "source": [
    "Day 1 - Introduction "
   ]
  },
  {
   "cell_type": "code",
   "execution_count": 1,
   "id": "d74e3b7b",
   "metadata": {},
   "outputs": [
    {
     "data": {
      "text/plain": [
       "'python'"
      ]
     },
     "execution_count": 1,
     "metadata": {},
     "output_type": "execute_result"
    }
   ],
   "source": [
    "'python'"
   ]
  },
  {
   "cell_type": "code",
   "execution_count": 10,
   "id": "c7922f28",
   "metadata": {},
   "outputs": [
    {
     "name": "stdout",
     "output_type": "stream",
     "text": [
      "Hello world\n",
      "Day-1-learning python\n",
      "Hello Python\n",
      "Hello&Python\n",
      "Hello-Python!"
     ]
    }
   ],
   "source": [
    "#print function\n",
    "\n",
    "print('Hello world')\n",
    "print(\"Day-1-learning python\")\n",
    "print('Hello','Python')\n",
    "print('Hello','Python',sep='&')\n",
    "print('Hello','Python',sep='-',end=\"!\")"
   ]
  },
  {
   "cell_type": "code",
   "execution_count": 9,
   "id": "30ac9c0e",
   "metadata": {},
   "outputs": [
    {
     "name": "stdout",
     "output_type": "stream",
     "text": [
      "this is a string\n"
     ]
    }
   ],
   "source": [
    "#variables\n",
    "\n",
    "str = \"this is a string\"\n",
    "print(str)"
   ]
  },
  {
   "cell_type": "code",
   "execution_count": 13,
   "id": "f2a6cfcd",
   "metadata": {},
   "outputs": [
    {
     "name": "stdout",
     "output_type": "stream",
     "text": [
      "2011111042\n"
     ]
    }
   ],
   "source": [
    "batch = \"201\"\n",
    "dept = \"042\"\n",
    "iid = \"1111\"\n",
    "\n",
    "print(batch,iid,dept,sep=\"\")"
   ]
  },
  {
   "cell_type": "code",
   "execution_count": 14,
   "id": "48e6e7ae",
   "metadata": {},
   "outputs": [
    {
     "data": {
      "text/plain": [
       "1690258761840"
      ]
     },
     "execution_count": 14,
     "metadata": {},
     "output_type": "execute_result"
    }
   ],
   "source": [
    "#memory location\n",
    "id(batch)"
   ]
  },
  {
   "cell_type": "code",
   "execution_count": 15,
   "id": "de992759",
   "metadata": {},
   "outputs": [
    {
     "data": {
      "text/plain": [
       "52"
      ]
     },
     "execution_count": 15,
     "metadata": {},
     "output_type": "execute_result"
    }
   ],
   "source": [
    "#size\n",
    "import sys\n",
    "sys.getsizeof(batch)"
   ]
  },
  {
   "cell_type": "code",
   "execution_count": 18,
   "id": "dcd9bed9",
   "metadata": {},
   "outputs": [
    {
     "data": {
      "text/plain": [
       "1690176350544"
      ]
     },
     "execution_count": 18,
     "metadata": {},
     "output_type": "execute_result"
    }
   ],
   "source": [
    "x = 2\n",
    "y = 5\n",
    "\n",
    "id(x)"
   ]
  },
  {
   "cell_type": "code",
   "execution_count": 19,
   "id": "850632ce",
   "metadata": {},
   "outputs": [
    {
     "data": {
      "text/plain": [
       "1690176350640"
      ]
     },
     "execution_count": 19,
     "metadata": {},
     "output_type": "execute_result"
    }
   ],
   "source": [
    "id(y)"
   ]
  },
  {
   "cell_type": "code",
   "execution_count": 21,
   "id": "747bb15f",
   "metadata": {},
   "outputs": [
    {
     "name": "stdout",
     "output_type": "stream",
     "text": [
      "100\n",
      "200\n",
      "300\n"
     ]
    }
   ],
   "source": [
    "#multiple variable\n",
    "a,b,c = 100,200,300\n",
    "print(a)\n",
    "print(b)\n",
    "print(c)"
   ]
  },
  {
   "cell_type": "code",
   "execution_count": 23,
   "id": "ff9f1990",
   "metadata": {},
   "outputs": [
    {
     "name": "stdout",
     "output_type": "stream",
     "text": [
      "local x:  2\n",
      "global x:  5\n"
     ]
    }
   ],
   "source": [
    "#function\n",
    "#local vs global variables\n",
    "\n",
    "v = 5\n",
    "\n",
    "def fun1():\n",
    "    v = 2\n",
    "    print('local x: ',v)\n",
    "    \n",
    "fun1()\n",
    "print('global x: ',v)"
   ]
  },
  {
   "cell_type": "code",
   "execution_count": 31,
   "id": "2a4507b2",
   "metadata": {},
   "outputs": [
    {
     "name": "stdout",
     "output_type": "stream",
     "text": [
      "local d:  2\n",
      "global d:  2\n"
     ]
    }
   ],
   "source": [
    "#d = 5\n",
    "\n",
    "def fun1():\n",
    "    d = 2\n",
    "    print('local d: ',d)\n",
    "    \n",
    "fun1()\n",
    "print('global d: ',d)"
   ]
  },
  {
   "cell_type": "code",
   "execution_count": 36,
   "id": "2fe17a57",
   "metadata": {},
   "outputs": [
    {
     "name": "stdout",
     "output_type": "stream",
     "text": [
      "Enter a: 2\n",
      "Enter b: 3\n",
      "Sum is:  5\n"
     ]
    }
   ],
   "source": [
    "def sum(a,b):\n",
    "    print('Sum is: ',a+b)\n",
    "    \n",
    "a = int(input(\"Enter a: \"))\n",
    "b = int(input(\"Enter b: \"))\n",
    "sum(a,b)"
   ]
  }
 ],
 "metadata": {
  "kernelspec": {
   "display_name": "Python 3 (ipykernel)",
   "language": "python",
   "name": "python3"
  },
  "language_info": {
   "codemirror_mode": {
    "name": "ipython",
    "version": 3
   },
   "file_extension": ".py",
   "mimetype": "text/x-python",
   "name": "python",
   "nbconvert_exporter": "python",
   "pygments_lexer": "ipython3",
   "version": "3.9.12"
  }
 },
 "nbformat": 4,
 "nbformat_minor": 5
}
