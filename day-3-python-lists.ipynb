{
 "cells": [
  {
   "cell_type": "markdown",
   "id": "c4b23edf",
   "metadata": {},
   "source": [
    "# Python Lists"
   ]
  },
  {
   "cell_type": "code",
   "execution_count": 1,
   "id": "93587770",
   "metadata": {},
   "outputs": [],
   "source": [
    "courses = [\"CSE445\",\"CSE465\",\"CSE467\",\"CSE495\"]"
   ]
  },
  {
   "cell_type": "code",
   "execution_count": 2,
   "id": "63ae5ccf",
   "metadata": {},
   "outputs": [
    {
     "data": {
      "text/plain": [
       "['CSE445', 'CSE465', 'CSE467', 'CSE495']"
      ]
     },
     "execution_count": 2,
     "metadata": {},
     "output_type": "execute_result"
    }
   ],
   "source": [
    "courses"
   ]
  },
  {
   "cell_type": "code",
   "execution_count": 3,
   "id": "eb3be889",
   "metadata": {},
   "outputs": [
    {
     "data": {
      "text/plain": [
       "'CSE465'"
      ]
     },
     "execution_count": 3,
     "metadata": {},
     "output_type": "execute_result"
    }
   ],
   "source": [
    "courses[1]"
   ]
  },
  {
   "cell_type": "code",
   "execution_count": 4,
   "id": "65f54a7b",
   "metadata": {},
   "outputs": [
    {
     "name": "stdout",
     "output_type": "stream",
     "text": [
      "CSE445\n",
      "CSE465\n",
      "CSE467\n",
      "CSE495\n"
     ]
    }
   ],
   "source": [
    "for course in courses:\n",
    "    print(course)"
   ]
  },
  {
   "cell_type": "code",
   "execution_count": 5,
   "id": "225c95fb",
   "metadata": {},
   "outputs": [
    {
     "name": "stdout",
     "output_type": "stream",
     "text": [
      "['CSE445', 'CSE465', 'CSE467', 'CSE495']\n"
     ]
    }
   ],
   "source": [
    "print(courses)"
   ]
  },
  {
   "cell_type": "code",
   "execution_count": 6,
   "id": "ce1b2213",
   "metadata": {},
   "outputs": [
    {
     "name": "stdout",
     "output_type": "stream",
     "text": [
      "4\n"
     ]
    }
   ],
   "source": [
    "print(len(courses))"
   ]
  },
  {
   "cell_type": "code",
   "execution_count": 7,
   "id": "bd0e9095",
   "metadata": {},
   "outputs": [
    {
     "name": "stdout",
     "output_type": "stream",
     "text": [
      "<class 'list'>\n"
     ]
    }
   ],
   "source": [
    "print(type(courses))"
   ]
  },
  {
   "cell_type": "code",
   "execution_count": 10,
   "id": "c8718aa7",
   "metadata": {},
   "outputs": [
    {
     "name": "stdout",
     "output_type": "stream",
     "text": [
      "CSE445 - 6\n",
      "CSE465 - 6\n",
      "CSE467 - 6\n",
      "CSE495 - 6\n"
     ]
    }
   ],
   "source": [
    "for course in courses:\n",
    "    print(course,'-',len(course))"
   ]
  },
  {
   "cell_type": "code",
   "execution_count": 8,
   "id": "184d44b0",
   "metadata": {},
   "outputs": [
    {
     "name": "stdout",
     "output_type": "stream",
     "text": [
      "[445, 465, 467, 495]\n"
     ]
    }
   ],
   "source": [
    "courseCodes = [445,465,467,495]\n",
    "print(courseCodes)"
   ]
  },
  {
   "cell_type": "code",
   "execution_count": 11,
   "id": "1db642de",
   "metadata": {},
   "outputs": [
    {
     "name": "stdout",
     "output_type": "stream",
     "text": [
      "['Machine Learning', 'Neural Network', 'Image Processing', 'Natural Language Processing']\n"
     ]
    }
   ],
   "source": [
    "courseTitles = [\"Machine Learning\",\"Neural Network\",\"Image Processing\",\"Natural Language Processing\"]\n",
    "print(courseTitles)"
   ]
  },
  {
   "cell_type": "code",
   "execution_count": 14,
   "id": "14719be2",
   "metadata": {},
   "outputs": [
    {
     "name": "stdout",
     "output_type": "stream",
     "text": [
      "445 : Machine Learning\n",
      "465 : Neural Network\n",
      "467 : Image Processing\n",
      "495 : Natural Language Processing\n"
     ]
    }
   ],
   "source": [
    "for i in range(len(courseCodes)):\n",
    "    print(courseCodes[i],':',courseTitles[i])"
   ]
  },
  {
   "cell_type": "code",
   "execution_count": 16,
   "id": "2c643305",
   "metadata": {},
   "outputs": [
    {
     "name": "stdout",
     "output_type": "stream",
     "text": [
      "Machine Learning - 16\n",
      "Neural Network - 14\n",
      "Image Processing - 16\n",
      "Natural Language Processing - 27\n"
     ]
    }
   ],
   "source": [
    "for course in courseTitles:\n",
    "    print(course,'-',len(course))"
   ]
  },
  {
   "cell_type": "code",
   "execution_count": 17,
   "id": "5fafb790",
   "metadata": {},
   "outputs": [
    {
     "name": "stdout",
     "output_type": "stream",
     "text": [
      "445 : Machine Learning - 16\n",
      "465 : Neural Network - 14\n",
      "467 : Image Processing - 16\n",
      "495 : Natural Language Processing - 27\n"
     ]
    }
   ],
   "source": [
    "for i in range(len(courseCodes)):\n",
    "    print(courseCodes[i],':',courseTitles[i],'-',len(courseTitles[i]))"
   ]
  },
  {
   "cell_type": "code",
   "execution_count": 21,
   "id": "72dd43b7",
   "metadata": {},
   "outputs": [
    {
     "name": "stdout",
     "output_type": "stream",
     "text": [
      "[1, 2, 3, 4, 5, 6]\n"
     ]
    }
   ],
   "source": [
    "numbers = [1,2,3,4,5,6]\n",
    "print(numbers)"
   ]
  },
  {
   "cell_type": "code",
   "execution_count": 25,
   "id": "eb6b87b5",
   "metadata": {},
   "outputs": [
    {
     "name": "stdout",
     "output_type": "stream",
     "text": [
      "[1, 2, 3, 4, 5, 6]\n",
      "1\n",
      "2\n",
      "3\n",
      "6\n",
      "5\n"
     ]
    }
   ],
   "source": [
    "print(numbers[:])\n",
    "print(numbers[0])\n",
    "print(numbers[1])\n",
    "print(numbers[2])\n",
    "print(numbers[-1])\n",
    "print(numbers[-2])"
   ]
  },
  {
   "cell_type": "code",
   "execution_count": 28,
   "id": "9c3da221",
   "metadata": {},
   "outputs": [
    {
     "name": "stdout",
     "output_type": "stream",
     "text": [
      "[1, 2]\n",
      "[1, 2, 3]\n",
      "[3, 4, 5, 6]\n",
      "[4, 5, 6]\n"
     ]
    }
   ],
   "source": [
    "print(numbers[:2])\n",
    "print(numbers[:3])\n",
    "print(numbers[2:])\n",
    "print(numbers[3:])"
   ]
  },
  {
   "cell_type": "code",
   "execution_count": 32,
   "id": "3c6d718c",
   "metadata": {},
   "outputs": [
    {
     "name": "stdout",
     "output_type": "stream",
     "text": [
      "[2]\n",
      "[2, 3, 4]\n",
      "[1, 2, 3]\n",
      "[2, 3, 4, 5]\n"
     ]
    }
   ],
   "source": [
    "print(numbers[1:2])\n",
    "print(numbers[1:4])\n",
    "print(numbers[:3])\n",
    "print(numbers[1:5])"
   ]
  },
  {
   "cell_type": "code",
   "execution_count": 33,
   "id": "9b3b0a0f",
   "metadata": {},
   "outputs": [
    {
     "name": "stdout",
     "output_type": "stream",
     "text": [
      "[1, 2, 3, 4, 5, 6, 7]\n"
     ]
    }
   ],
   "source": [
    "numbers.append(7)\n",
    "print(numbers)"
   ]
  }
 ],
 "metadata": {
  "kernelspec": {
   "display_name": "Python 3 (ipykernel)",
   "language": "python",
   "name": "python3"
  },
  "language_info": {
   "codemirror_mode": {
    "name": "ipython",
    "version": 3
   },
   "file_extension": ".py",
   "mimetype": "text/x-python",
   "name": "python",
   "nbconvert_exporter": "python",
   "pygments_lexer": "ipython3",
   "version": "3.9.12"
  }
 },
 "nbformat": 4,
 "nbformat_minor": 5
}
