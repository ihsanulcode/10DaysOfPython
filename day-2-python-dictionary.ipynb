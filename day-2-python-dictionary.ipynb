{
 "cells": [
  {
   "cell_type": "markdown",
   "id": "00e8cf3e",
   "metadata": {},
   "source": [
    "# Python Dictionaries"
   ]
  },
  {
   "cell_type": "code",
   "execution_count": 2,
   "id": "255066f7",
   "metadata": {},
   "outputs": [],
   "source": [
    "phone = {\n",
    "    \"asif\" : 123,\n",
    "    \"rafi\" : 345,\n",
    "    \"alif\" : 456,\n",
    "    \"abir\" : 987,\n",
    "    \"ramim\" : 456\n",
    "}"
   ]
  },
  {
   "cell_type": "code",
   "execution_count": 3,
   "id": "f6a4af56",
   "metadata": {},
   "outputs": [
    {
     "data": {
      "text/plain": [
       "{'asif': 123, 'rafi': 345, 'alif': 456, 'abir': 987, 'ramim': 456}"
      ]
     },
     "execution_count": 3,
     "metadata": {},
     "output_type": "execute_result"
    }
   ],
   "source": [
    "phone"
   ]
  },
  {
   "cell_type": "code",
   "execution_count": 6,
   "id": "3f362a8e",
   "metadata": {},
   "outputs": [
    {
     "name": "stdout",
     "output_type": "stream",
     "text": [
      "Name: asif Phone: 123\n",
      "Name: rafi Phone: 345\n",
      "Name: alif Phone: 456\n",
      "Name: abir Phone: 987\n",
      "Name: ramim Phone: 456\n"
     ]
    }
   ],
   "source": [
    "for name,number in phone.items():\n",
    "    print(f\"Name: {name} Phone: {number}\")"
   ]
  },
  {
   "cell_type": "code",
   "execution_count": 8,
   "id": "c278a7e3",
   "metadata": {},
   "outputs": [],
   "source": [
    "courses = {\n",
    "    \"CSE445\" : \"Machine Learning\",\n",
    "    \"CSE465\" : \"Neural Network\",\n",
    "    \"CSE467\" : \"Image Processing\",\n",
    "    \"CSE495\" : \"Natural Language Processing\"\n",
    "}"
   ]
  },
  {
   "cell_type": "code",
   "execution_count": 20,
   "id": "a073915a",
   "metadata": {},
   "outputs": [
    {
     "name": "stdout",
     "output_type": "stream",
     "text": [
      "CSE445 : Machine Learning - 16\n",
      "CSE465 : Neural Network - 14\n",
      "CSE467 : Image Processing - 16\n",
      "CSE495 : Natural Language Processing - 27\n"
     ]
    }
   ],
   "source": [
    "for courseCode, courseName in courses.items():\n",
    "    print(courseCode,\":\",courseName,\"-\", len(courseName))"
   ]
  },
  {
   "cell_type": "code",
   "execution_count": 13,
   "id": "dfff0636",
   "metadata": {},
   "outputs": [
    {
     "name": "stdout",
     "output_type": "stream",
     "text": [
      "CSE445\n",
      "CSE465\n",
      "CSE467\n",
      "CSE495\n"
     ]
    }
   ],
   "source": [
    "for courseCode in courses:\n",
    "    print(courseCode)"
   ]
  },
  {
   "cell_type": "code",
   "execution_count": 14,
   "id": "3acab302",
   "metadata": {},
   "outputs": [
    {
     "name": "stdout",
     "output_type": "stream",
     "text": [
      "Machine Learning\n",
      "Neural Network\n",
      "Image Processing\n",
      "Natural Language Processing\n"
     ]
    }
   ],
   "source": [
    "for courseName in courses.values():\n",
    "    print(courseName)"
   ]
  },
  {
   "cell_type": "code",
   "execution_count": 18,
   "id": "d406ae60",
   "metadata": {},
   "outputs": [],
   "source": [
    "student = {\n",
    "    \"Name\" : \"Ihsanul Haque Asif\",\n",
    "    \"Dept\" : \"ECE\",\n",
    "    \"ID\" : \"2010000042\",\n",
    "    \"Institute\" : \"North South University\",\n",
    "    \"Address\" : \"Dhaka,Bangladesh\"\n",
    "}"
   ]
  },
  {
   "cell_type": "code",
   "execution_count": 19,
   "id": "a2c5beaa",
   "metadata": {},
   "outputs": [
    {
     "name": "stdout",
     "output_type": "stream",
     "text": [
      "Name : Ihsanul Haque Asif\n",
      "Dept : ECE\n",
      "ID : 2010000042\n",
      "Institute : North South University\n",
      "Address : Dhaka,Bangladesh\n"
     ]
    }
   ],
   "source": [
    "for i in student:\n",
    "    print(i,':',student[i])"
   ]
  }
 ],
 "metadata": {
  "kernelspec": {
   "display_name": "Python 3 (ipykernel)",
   "language": "python",
   "name": "python3"
  },
  "language_info": {
   "codemirror_mode": {
    "name": "ipython",
    "version": 3
   },
   "file_extension": ".py",
   "mimetype": "text/x-python",
   "name": "python",
   "nbconvert_exporter": "python",
   "pygments_lexer": "ipython3",
   "version": "3.9.12"
  }
 },
 "nbformat": 4,
 "nbformat_minor": 5
}
